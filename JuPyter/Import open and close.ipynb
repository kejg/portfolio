{
 "cells": [
  {
   "cell_type": "code",
   "execution_count": 1,
   "metadata": {},
   "outputs": [
    {
     "data": {
      "text/plain": [
       "{'status': 'OK',\n",
       " 'from': '2022-02-07',\n",
       " 'symbol': 'AAPL',\n",
       " 'open': 172.86,\n",
       " 'high': 173.9458,\n",
       " 'low': 170.95,\n",
       " 'close': 171.66,\n",
       " 'volume': 77251204,\n",
       " 'afterHours': 172.4,\n",
       " 'preMarket': 172.39}"
      ]
     },
     "execution_count": 1,
     "metadata": {},
     "output_type": "execute_result"
    }
   ],
   "source": [
    "import requests\n",
    "api_url = \"https://api.polygon.io/v1/open-close/AAPL/2022-02-07?adjusted=true&apiKey=bIA2fPB6xv8PAx3RtBYJ6BsKBJSy5PqB\"\n",
    "response = requests.get(api_url)\n",
    "response.json()\n"
   ]
  }
 ],
 "metadata": {
  "interpreter": {
   "hash": "7dbb69f2fe16ee411a1d001fc5a919d66021ed1f9a71b5ac22cd67380668a935"
  },
  "kernelspec": {
   "display_name": "Python 3.7.1 64-bit",
   "language": "python",
   "name": "python3"
  },
  "language_info": {
   "codemirror_mode": {
    "name": "ipython",
    "version": 3
   },
   "file_extension": ".py",
   "mimetype": "text/x-python",
   "name": "python",
   "nbconvert_exporter": "python",
   "pygments_lexer": "ipython3",
   "version": "3.7.1"
  },
  "orig_nbformat": 4
 },
 "nbformat": 4,
 "nbformat_minor": 2
}
