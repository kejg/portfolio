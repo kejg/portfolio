{
 "cells": [
  {
   "cell_type": "code",
   "execution_count": null,
   "metadata": {},
   "outputs": [],
   "source": [
    "#Import neccessery packages\n",
    "import json\n",
    "import os.path\n",
    "import requests\n",
    "from datetime import date, timedelta\n",
    "from google.cloud import storage"
   ]
  },
  {
   "cell_type": "code",
   "execution_count": 10,
   "metadata": {},
   "outputs": [],
   "source": [
    "#Variables\n",
    "Company = 'Apple'\n",
    "ticker = 'AAPL'\n",
    "today = date.today() - timedelta(days=1)\n",
    "save_path = \"C:\\\\Users\\\\Erik Karels\\\\Portfolio project\\\\Data\"\n",
    "file_name = Company + \"-\" + str(today) + \".json\"\n",
    "completeName = os.path.join(save_path, file_name)"
   ]
  },
  {
   "cell_type": "code",
   "execution_count": 11,
   "metadata": {},
   "outputs": [],
   "source": [
    "#Get data\n",
    "api_url = \"https://api.polygon.io/v1/open-close/\" + ticker + \"/\" + str(today) + \"/?adjusted=true&apiKey=bIA2fPB6xv8PAx3RtBYJ6BsKBJSy5PqB\"\n",
    "response = requests.get(api_url)\n",
    "data = response.json()\n",
    "with open(completeName, 'w') as f:\n",
    "    json.dump(data, f)"
   ]
  }
 ],
 "metadata": {
  "interpreter": {
   "hash": "7dbb69f2fe16ee411a1d001fc5a919d66021ed1f9a71b5ac22cd67380668a935"
  },
  "kernelspec": {
   "display_name": "Python 3.7.1 64-bit",
   "language": "python",
   "name": "python3"
  },
  "language_info": {
   "codemirror_mode": {
    "name": "ipython",
    "version": 3
   },
   "file_extension": ".py",
   "mimetype": "text/x-python",
   "name": "python",
   "nbconvert_exporter": "python",
   "pygments_lexer": "ipython3",
   "version": "3.7.1"
  },
  "orig_nbformat": 4
 },
 "nbformat": 4,
 "nbformat_minor": 2
}
